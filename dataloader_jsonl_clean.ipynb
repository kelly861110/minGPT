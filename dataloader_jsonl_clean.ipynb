{
 "cells": [
  {
   "cell_type": "code",
   "execution_count": 16,
   "id": "4609dda2",
   "metadata": {},
   "outputs": [],
   "source": [
    "import json\n",
    "from torch.utils.data import Dataset\n",
    "from torch.utils.data import DataLoader\n",
    "from transformers import GPT2Tokenizer\n",
    "from datasets import load_dataset\n",
    "import matplotlib.pyplot as plt"
   ]
  },
  {
   "cell_type": "code",
   "execution_count": 6,
   "id": "3de0998d",
   "metadata": {},
   "outputs": [],
   "source": [
    "class JSONLDataset(Dataset):\n",
    "    def __init__(self, file_path, ul2=False,max_text_len = 200, max_block_size = 100):\n",
    "        self.tokenizer = GPT2Tokenizer.from_pretrained(\"gpt2\")\n",
    "        self.tokenizer.pad_token_id = 50256\n",
    "        self.tokenizer.add_special_tokens({'pad_token': '[PAD]'})\n",
    "        self.path = file_path\n",
    "        self.max_length = max_length - 1\n",
    "        self.max_block_size = max_block_size\n",
    "        self.vocab_size = len(self.tokenizer)\n",
    "        \n",
    "        x = []\n",
    "        y = []\n",
    "        f = open(file_path,'r')\n",
    "        lines = f.readlines()\n",
    "\n",
    "        if ul2 == False:\n",
    "            for line in lines:\n",
    "                item = json.loads(line)['text'][:max_text_len]\n",
    "                \n",
    "                if len(item) <= max_text_len:\n",
    "                    item = self.tokenizer(item, padding='max_length',max_length=max_block_size, truncation=True,return_tensors='pt')[\"input_ids\"][0]\n",
    "\n",
    "                    x.append(item[:-1])\n",
    "                    y.append(item[1:])\n",
    "\n",
    "            self.x = x\n",
    "            self.y = y\n",
    "        else:\n",
    "            for line in lines:\n",
    "                item = json.loads(line)['text'][:10]\n",
    "                item = self.tokenizer(item, padding='max_length',max_length=max_block_size, truncation=True,return_tensors='pt')[\"input_ids\"][0]\n",
    "                # just drop if too big\n",
    "                if len(item) > self.max_length:\n",
    "                    continue\n",
    "                x.append(item[:-1])\n",
    "                y.append(item[1:])\n",
    "\n",
    "            self.x = x\n",
    "            self.y = y\n",
    "            \n",
    "    \n",
    "    def get_vocab_size(self):\n",
    "        return self.vocab_size\n",
    "    \n",
    "    def get_block_size(self):\n",
    "        # the length of the sequence that will feed into transformer, \n",
    "        # containing concatenated input and the output, but -1 because\n",
    "        # the transformer starts making predictions at the last input element\n",
    "        return self.max_block_size * 2 -1\n",
    "                    \n",
    "    def __len__(self):\n",
    "        return len(self.x)\n",
    "\n",
    "    def __getitem__(self, idx):\n",
    "        x = self.x[idx]\n",
    "        y = self.y[idx]\n",
    "        return x,y\n"
   ]
  },
  {
   "cell_type": "code",
   "execution_count": 8,
   "id": "7e16d1b2",
   "metadata": {},
   "outputs": [],
   "source": [
    "dataset = JSONLDataset(\"proj2_data.jsonl\")"
   ]
  },
  {
   "cell_type": "code",
   "execution_count": 10,
   "id": "315d61ac",
   "metadata": {},
   "outputs": [
    {
     "name": "stdout",
     "output_type": "stream",
     "text": [
      "number of parameters: 2.51M\n"
     ]
    }
   ],
   "source": [
    "# create a GPT instance\n",
    "from mingpt.model import GPT\n",
    "\n",
    "model_config = GPT.get_default_config()\n",
    "model_config.model_type = 'gpt-nano'\n",
    "model_config.vocab_size = dataset.get_vocab_size()\n",
    "model_config.block_size = dataset.get_block_size()\n",
    "model_config.checkpoint = None\n",
    "model = GPT(model_config)"
   ]
  },
  {
   "cell_type": "code",
   "execution_count": 13,
   "id": "f0ed0529",
   "metadata": {},
   "outputs": [
    {
     "name": "stdout",
     "output_type": "stream",
     "text": [
      "running on device cpu\n"
     ]
    }
   ],
   "source": [
    "# create a Trainer object\n",
    "from mingpt.trainer import Trainer\n",
    "\n",
    "train_config = Trainer.get_default_config()\n",
    "train_config.learning_rate = 5e-4 # the model we're using is so small that we can go a bit faster\n",
    "train_config.max_iters = 200\n",
    "train_config.num_workers = 0\n",
    "trainer = Trainer(train_config, model, dataset)"
   ]
  },
  {
   "cell_type": "code",
   "execution_count": 14,
   "id": "7ddc01f0",
   "metadata": {},
   "outputs": [
    {
     "name": "stdout",
     "output_type": "stream",
     "text": [
      "iter_dt 0.00ms; iter 0: train loss 9.84522\n",
      "iter_dt 2186.88ms; iter 10: train loss 9.40946\n",
      "iter_dt 2191.79ms; iter 20: train loss 8.93967\n",
      "iter_dt 2255.17ms; iter 30: train loss 8.45746\n",
      "iter_dt 2354.24ms; iter 40: train loss 7.95766\n",
      "iter_dt 2220.96ms; iter 50: train loss 7.44101\n",
      "iter_dt 2175.94ms; iter 60: train loss 6.91157\n",
      "iter_dt 2204.47ms; iter 70: train loss 6.37363\n",
      "iter_dt 2231.80ms; iter 80: train loss 5.83111\n",
      "iter_dt 2216.81ms; iter 90: train loss 5.28708\n",
      "iter_dt 2234.98ms; iter 100: train loss 4.73242\n",
      "iter_dt 2236.42ms; iter 110: train loss 4.15990\n",
      "iter_dt 2211.72ms; iter 120: train loss 3.62280\n",
      "iter_dt 2170.20ms; iter 130: train loss 3.05202\n",
      "iter_dt 2254.68ms; iter 140: train loss 2.51689\n",
      "iter_dt 2203.02ms; iter 150: train loss 1.97902\n",
      "iter_dt 2189.21ms; iter 160: train loss 1.52077\n",
      "iter_dt 2199.71ms; iter 170: train loss 1.11712\n",
      "iter_dt 2429.09ms; iter 180: train loss 0.76470\n",
      "iter_dt 2430.17ms; iter 190: train loss 0.56944\n"
     ]
    }
   ],
   "source": [
    "loss = []\n",
    "def batch_end_callback(trainer):\n",
    "    if trainer.iter_num % 10 == 0:\n",
    "        print(f\"iter_dt {trainer.iter_dt * 1000:.2f}ms; iter {trainer.iter_num}: train loss {trainer.loss.item():.5f}\")\n",
    "        loss.append(trainer.loss.item())\n",
    "trainer.set_callback('on_batch_end', batch_end_callback)\n",
    "\n",
    "trainer.run()"
   ]
  },
  {
   "cell_type": "code",
   "execution_count": 17,
   "id": "c6a613a1",
   "metadata": {},
   "outputs": [
    {
     "data": {
      "image/png": "[encoded data removed]",
      "text/plain": [
       "<Figure size 432x288 with 1 Axes>"
      ]
     },
     "metadata": {
      "needs_background": "light"
     },
     "output_type": "display_data"
    }
   ],
   "source": [
    "plt.plot(loss)\n",
    "plt.xlabel(\"iterations\")\n",
    "plt.ylabel(\"loss\")\n",
    "plt.show()"
   ]
  },
  {
   "cell_type": "code",
   "execution_count": null,
   "id": "db33f5ce",
   "metadata": {},
   "outputs": [],
   "source": []
  }
 ],
 "metadata": {
  "kernelspec": {
   "display_name": "Python 3 (ipykernel)",
   "language": "python",
   "name": "python3"
  },
  "language_info": {
   "codemirror_mode": {
    "name": "ipython",
    "version": 3
   },
   "file_extension": ".py",
   "mimetype": "text/x-python",
   "name": "python",
   "nbconvert_exporter": "python",
   "pygments_lexer": "ipython3",
   "version": "3.9.1"
  }
 },
 "nbformat": 4,
 "nbformat_minor": 5
}
