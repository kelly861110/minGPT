{
 "cells": [
  {
   "cell_type": "code",
   "execution_count": 1,
   "id": "4609dda2",
   "metadata": {},
   "outputs": [
    {
     "name": "stderr",
     "output_type": "stream",
     "text": [
      "/Library/Frameworks/Python.framework/Versions/3.9/lib/python3.9/site-packages/pandas/core/computation/expressions.py:21: UserWarning: Pandas requires version '2.8.0' or newer of 'numexpr' (version '2.7.3' currently installed).\n",
      "  from pandas.core.computation.check import NUMEXPR_INSTALLED\n"
     ]
    }
   ],
   "source": [
    "import json\n",
    "from torch.utils.data import Dataset\n",
    "#from torch.utils.data import DataLoader\n",
    "from transformers import GPT2Tokenizer\n",
    "from datasets import load_dataset\n",
    "import matplotlib.pyplot as plt\n",
    "import numpy as np\n",
    "import torch"
   ]
  },
  {
   "cell_type": "code",
   "execution_count": 3,
   "id": "781eb7e8-05b4-4330-a67f-b07c24b858a1",
   "metadata": {},
   "outputs": [],
   "source": [
    "class JSONLDataset(Dataset):\n",
    "    def __init__(self, file_path, ul2=False,max_text_len = 100, max_block_size = 100):\n",
    "        self.tokenizer = GPT2Tokenizer.from_pretrained(\"gpt2\")\n",
    "        self.tokenizer.pad_token_id = 50256\n",
    "        self.tokenizer.add_tokens(['[R]', '[S]', '[X]'])\n",
    "        self.tokenizer.add_tokens([f'sentinel_token_{i}' for i in range(500)])\n",
    "        self.tokenizer.add_tokens([f'sentinel_token_s_{i}' for i in range(500)])\n",
    "        \n",
    "        self.path = file_path\n",
    "        self.max_block_size = max_block_size\n",
    "        self.max_length = max_text_len\n",
    "        self.vocab_size = len(self.tokenizer)\n",
    "        x = []\n",
    "        y = []\n",
    "        f = open(file_path,'r')\n",
    "        lines = f.readlines()\n",
    "\n",
    "        if ul2 == False:\n",
    "            for line in lines:\n",
    "                item = json.loads(line)['text'][:max_text_len]\n",
    "                \n",
    "                item = self.tokenizer(item, padding='max_length',max_length=max_text_len, truncation=True,return_tensors='pt')[\"input_ids\"][0]\n",
    "                if len(item) > self.max_length:\n",
    "                    continue\n",
    "                x.append(item[:-1])\n",
    "                y.append(item[1:])\n",
    "\n",
    "            self.x = x\n",
    "            self.y = y\n",
    "        else:\n",
    "            for line in lines:\n",
    "                item = json.loads(line)['text'][:max_text_len]\n",
    "                denoise_type = np.random.choice([\"[R]\",\"[S]\",\"[X]\"],p=[0.25,0.5,0.25])\n",
    "                denoise_type_token = self.tokenizer(denoise_type)['input_ids'][0]\n",
    "                item = self.tokenizer(item, truncation=True,return_tensors='pt', add_special_tokens=True)[\"input_ids\"][0].long()#[:100]\n",
    "                if len(item) >= self.max_length:\n",
    "                    continue\n",
    "                \n",
    "                target = torch.cat((item, torch.tensor([self.tokenizer.eos_token_id] * (self.max_length-1 - item.shape[0])).long()))\n",
    "                y.append(target)\n",
    "                item = torch.cat((torch.tensor([denoise_type_token]).long(), item[:-1]))\n",
    "\n",
    "                if denoise_type == \"[R]\":\n",
    "                    out = self.r_denoising(item)\n",
    "                    if out != None:\n",
    "                        inputs = out\n",
    "                elif denoise_type == \"[S]\":\n",
    "                    inputs = self.s_denoising(item)\n",
    "                else:\n",
    "                    inputs = self.x_denoising(item)\n",
    "                x.append(inputs)\n",
    "\n",
    "            self.x = x\n",
    "            self.y = y\n",
    "            \n",
    "    def r_denoising(self, inputs, corruption_rate=0.15):\n",
    "        # initializing\n",
    "        skip_steps = 0\n",
    "        tokens_used = 0\n",
    "        check = 0\n",
    "        sequence_length = inputs.shape[0]\n",
    "        \n",
    "        # loop through the sequence\n",
    "        for i in range(1, sequence_length-5):\n",
    "            # avoid the span\n",
    "            if skip_steps > 0:\n",
    "                skip_steps -= 1\n",
    "                continue\n",
    "            # check if want to span\n",
    "            if np.random.random() < corruption_rate:\n",
    "                check += 1\n",
    "                # Randomly choose a span length for corruption\n",
    "                span_length = np.random.choice([2,3,4,5])\n",
    "                \n",
    "                # get sentinel tokens\n",
    "                #sentinel_token = self.tokenizer(f\"sentinel_token_{tokens_used}\")['input_ids'][0]\n",
    "                sentinel_token = torch.tensor([self.tokenizer(f'sentinel_token_{tokens_used+i}')['input_ids'][0] for i in range(span_length)]).long()\n",
    "                tokens_used += span_length\n",
    "                # add sentinel token\n",
    "                inputs = torch.cat((inputs[:i], sentinel_token, inputs[i + span_length:]))  # Mask the corrupted span in ids\n",
    "                steps_to_skip = span_length\n",
    "        # padding\n",
    "        inputs = torch.cat((inputs, torch.tensor([self.tokenizer.eos_token_id] * (self.max_length-1 - inputs.shape[0])).long()))\n",
    "        return inputs\n",
    "    \n",
    "    def s_denoising(self, inputs):\n",
    "        # get the length\n",
    "        sequence_length = inputs.shape[0]\n",
    "        # get the random denoising start point\n",
    "        span_start = np.random.choice(np.arange(0,sequence_length))\n",
    "        # get a list of sential tokens\n",
    "        new_sentinel_tokens = torch.tensor([self.tokenizer(f'sentinel_token_s_{i}')['input_ids'][0] for i in range(sequence_length-span_start)]).long()\n",
    "        # add the noise\n",
    "        inputs = torch.cat((inputs[:span_start], new_sentinel_tokens))\n",
    "        inputs = torch.cat((inputs, torch.tensor([self.tokenizer.eos_token_id] * (self.max_length-1 - inputs.shape[0])).long()))\n",
    "        return inputs\n",
    "    \n",
    "    def x_denoising(self, inputs):\n",
    "        # use R denoising function but increase the corruption rate\n",
    "        return self.r_denoising(inputs, corruption_rate=0.5)\n",
    "    \n",
    "    def get_vocab_size(self):\n",
    "        return self.vocab_size\n",
    "    \n",
    "    def get_block_size(self):\n",
    "        # the length of the sequence that will feed into transformer, \n",
    "        # containing concatenated input and the output, but -1 because\n",
    "        # the transformer starts making predictions at the last input element\n",
    "        return self.max_block_size * 2 -1\n",
    "                    \n",
    "    def __len__(self):\n",
    "        return len(self.x)\n",
    "\n",
    "    def __getitem__(self, idx):\n",
    "        x = self.x[idx]\n",
    "        y = self.y[idx]\n",
    "        return x,y\n"
   ]
  },
  {
   "cell_type": "code",
   "execution_count": 4,
   "id": "7e16d1b2",
   "metadata": {},
   "outputs": [],
   "source": [
    "dataset1 = JSONLDataset(\"proj2_data.jsonl\")\n",
    "dataset2 = JSONLDataset(\"proj2_data.jsonl\",ul2=True)"
   ]
  },
  {
   "cell_type": "code",
   "execution_count": 7,
   "id": "90ab43d8-b63e-40ab-a27b-073dee0f1a0d",
   "metadata": {},
   "outputs": [
    {
     "name": "stdout",
     "output_type": "stream",
     "text": [
      "number of parameters: 2.55M\n"
     ]
    }
   ],
   "source": [
    "from mingpt.model import GPT\n",
    "\n",
    "model_config = GPT.get_default_config()\n",
    "model_config.model_type = 'gpt-nano'\n",
    "model_config.vocab_size = dataset1.get_vocab_size()\n",
    "model_config.block_size = dataset1.get_block_size()\n",
    "#model_config.checkpoint = \"check/model_checkpoint_iter_50.pth\"\n",
    "model_config.checkpoint = None\n",
    "model1 = GPT(model_config)"
   ]
  },
  {
   "cell_type": "code",
   "execution_count": 10,
   "id": "f0ed0529",
   "metadata": {},
   "outputs": [
    {
     "name": "stdout",
     "output_type": "stream",
     "text": [
      "running on device cpu\n"
     ]
    }
   ],
   "source": [
    "# create a Trainer object\n",
    "from mingpt.trainer import Trainer\n",
    "\n",
    "train_config = Trainer.get_default_config()\n",
    "train_config.learning_rate = 5e-4 # the model we're using is so small that we can go a bit faster\n",
    "train_config.max_iters = 300\n",
    "train_config.num_workers = 0\n",
    "trainer1 = Trainer(train_config, model1, dataset1)\n",
    "#trainer2 = Trainer(train_config, model2, dataset2)"
   ]
  },
  {
   "cell_type": "code",
   "execution_count": 13,
   "id": "6fc865f2-fe0d-4215-afcf-fb09c9a18c3e",
   "metadata": {},
   "outputs": [
    {
     "name": "stdout",
     "output_type": "stream",
     "text": [
      "number of parameters: 2.55M\n",
      "running on device cpu\n",
      "iter_dt 0.00ms; iter 0: train loss 10.87525\n",
      "iter_dt 2601.69ms; iter 50: train loss 8.26187\n",
      "iter_dt 2648.13ms; iter 100: train loss 6.20617\n"
     ]
    }
   ],
   "source": [
    "from mingpt.model import GPT\n",
    "\n",
    "model_config = GPT.get_default_config()\n",
    "model_config.model_type = 'gpt-nano'\n",
    "model_config.vocab_size = dataset1.get_vocab_size()\n",
    "model_config.block_size = dataset1.get_block_size()\n",
    "model_config.checkpoint = None\n",
    "model1 = GPT(model_config)\n",
    "\n",
    "# create a Trainer object\n",
    "from mingpt.trainer import Trainer\n",
    "\n",
    "train_config = Trainer.get_default_config()\n",
    "train_config.learning_rate = 5e-4 # the model we're using is so small that we can go a bit faster\n",
    "train_config.max_iters = 101\n",
    "train_config.num_workers = 0\n",
    "trainer1 = Trainer(train_config, model1, dataset1)\n",
    "\n",
    "\n",
    "\n",
    "\n",
    "loss = []\n",
    "def batch_end_callback(trainer):\n",
    "    if trainer.iter_num % 50 == 0:\n",
    "        print(f\"iter_dt {trainer.iter_dt * 1000:.2f}ms; iter {trainer.iter_num}: train loss {trainer.loss.item():.5f}\")\n",
    "        loss.append(trainer.loss.item())\n",
    "trainer1.set_callback('on_batch_end', batch_end_callback)\n",
    "\n",
    "trainer1.run()"
   ]
  },
  {
   "cell_type": "code",
   "execution_count": 15,
   "id": "65598c83-aa59-4b27-a277-47b3841199e7",
   "metadata": {},
   "outputs": [
    {
     "name": "stdout",
     "output_type": "stream",
     "text": [
      "number of parameters: 2.55M\n",
      "running on device cpu\n",
      "iter_dt 0.00ms; iter 0: train loss 10.88029\n",
      "iter_dt 2316.77ms; iter 10: train loss 10.00289\n",
      "number of parameters: 2.55M\n",
      "running on device cpu\n",
      "iter_dt 0.00ms; iter 0: train loss 10.91503\n",
      "iter_dt 2342.89ms; iter 10: train loss 10.15583\n"
     ]
    }
   ],
   "source": [
    "# create a GPT instance\n",
    "#checkpoint_iter = [50,100,150,200,250,300]\n",
    "checkpoint_iter = [50,100]\n",
    "for i in checkpoint_iter:\n",
    "    model_config = GPT.get_default_config()\n",
    "    model_config.model_type = 'gpt-nano'\n",
    "    model_config.vocab_size = dataset2.get_vocab_size()\n",
    "    model_config.block_size = dataset2.get_block_size()\n",
    "    model_config.checkpoint = f\"model_checkpoint_iter_{i}.pth\"\n",
    "    model2 = GPT(model_config)\n",
    "\n",
    "    train_config = Trainer.get_default_config()\n",
    "    train_config.learning_rate = 5e-4 # the model we're using is so small that we can go a bit faster\n",
    "    train_config.max_iters = 11\n",
    "    train_config.num_workers = 0\n",
    "    train_config.ul2 = True\n",
    "    train_config.ul2_checkpoint = i\n",
    "    trainer2 = Trainer(train_config, model2, dataset2)\n",
    "    #trainer2.run()\n",
    "\n",
    "\n",
    "    loss_ul2 = []\n",
    "    def batch_end_callback(trainer):\n",
    "        if trainer.iter_num % 10 == 0:\n",
    "            print(f\"iter_dt {trainer.iter_dt * 1000:.2f}ms; iter {trainer.iter_num}: train loss {trainer.loss.item():.5f}\")\n",
    "            loss_ul2.append(trainer.loss.item())\n",
    "    trainer2.set_callback('on_batch_end', batch_end_callback)\n",
    "\n",
    "    trainer2.run()\n"
   ]
  },
  {
   "cell_type": "code",
   "execution_count": 18,
   "id": "6545424d",
   "metadata": {},
   "outputs": [
    {
     "data": {
      "image/png": "[encoded data removed]",
      "text/plain": [
       "<Figure size 432x288 with 1 Axes>"
      ]
     },
     "metadata": {
      "needs_background": "light"
     },
     "output_type": "display_data"
    }
   ],
   "source": [
    "orignal = [0.2560,0.2538, 0.2567, 0.2540]\n",
    "ul2 = [0.2571,0.2562, 0.2562, 0.2539]\n",
    "x = [50,100,200,300]\n",
    "plt.plot(x,orignal,label=\"Original\")\n",
    "plt.plot(x,ul2,label=\"UL2\")\n",
    "plt.xlabel(\"iterations\")\n",
    "plt.ylabel(\"Accuracy\")\n",
    "plt.legend()\n",
    "plt.savefig(\"acc_ul2\")"
   ]
  },
  {
   "cell_type": "code",
   "execution_count": null,
   "id": "27e71083-9ecc-4175-9c09-eae311da7925",
   "metadata": {},
   "outputs": [],
   "source": []
  }
 ],
 "metadata": {
  "kernelspec": {
   "display_name": "Python 3 (ipykernel)",
   "language": "python",
   "name": "python3"
  },
  "language_info": {
   "codemirror_mode": {
    "name": "ipython",
    "version": 3
   },
   "file_extension": ".py",
   "mimetype": "text/x-python",
   "name": "python",
   "nbconvert_exporter": "python",
   "pygments_lexer": "ipython3",
   "version": "3.9.1"
  }
 },
 "nbformat": 4,
 "nbformat_minor": 5
}
